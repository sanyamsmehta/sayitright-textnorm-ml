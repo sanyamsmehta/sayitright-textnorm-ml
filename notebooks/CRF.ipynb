{
  "nbformat": 4,
  "nbformat_minor": 0,
  "metadata": {
    "colab": {
      "provenance": [],
      "gpuType": "T4"
    },
    "kernelspec": {
      "name": "python3",
      "display_name": "Python 3"
    },
    "language_info": {
      "name": "python"
    },
    "accelerator": "GPU"
  },
  "cells": [
    {
      "cell_type": "code",
      "source": [
        "# Define features (X) and labels (y)\n",
        "X = []\n",
        "y = []\n",
        "\n",
        "data = data.astype(str)\n",
        "\n",
        "for sentence_id, group in data.groupby(\"sentence_id\"):\n",
        "    sentence_features = []\n",
        "    sentence_labels = []\n",
        "    for index, row in group.iterrows():\n",
        "        token_features = {\n",
        "            \"sentence_id\": row[\"sentence_id\"],\n",
        "            \"token_id\": row[\"token_id\"],\n",
        "            \"word\": row[\"before\"]\n",
        "        }\n",
        "        sentence_features.append(token_features)\n",
        "        sentence_labels.append(row[\"class\"])\n",
        "    X.append(sentence_features)\n",
        "    y.append(sentence_labels)\n",
        "\n",
        "# Split the dataset into training and testing sets\n",
        "X_train, X_test, y_train, y_test = train_test_split(X, y, test_size=0.2, random_state=42)\n",
        "\n",
        "# Define CRF model\n",
        "crf = CRF(algorithm='lbfgs',\n",
        "          c1=0.1,\n",
        "          c2=0.1,\n",
        "          max_iterations=100,\n",
        "          all_possible_transitions=True)\n",
        "\n",
        "# Train the CRF model\n",
        "crf.fit(X_train, y_train)\n",
        "\n",
        "# Make predictions\n",
        "y_pred = crf.predict(X_test)\n",
        "\n",
        "from sklearn.preprocessing import MultiLabelBinarizer\n",
        "from sklearn.metrics import accuracy_score, precision_score, recall_score, f1_score\n",
        "\n",
        "def evaluate_predictions(y_true, y_pred, classes):\n",
        "    # Convert labels to binary array format\n",
        "    mlb = MultiLabelBinarizer(classes=classes)\n",
        "    y_true_bin = mlb.fit_transform(y_true)\n",
        "    y_pred_bin = mlb.transform(y_pred)\n",
        "\n",
        "    # Calculate accuracy\n",
        "    accuracy = accuracy_score(y_true_bin, y_pred_bin)\n",
        "    print(\"Overall Accuracy:\", accuracy)\n",
        "\n",
        "    # Calculate precision, recall, and F1-score for each class\n",
        "    precision = precision_score(y_true_bin, y_pred_bin, average='micro')\n",
        "    recall = recall_score(y_true_bin, y_pred_bin, average='micro')\n",
        "    f1 = f1_score(y_true_bin, y_pred_bin, average='micro')\n",
        "    print(f\"Precision: {precision}, Recall: {recall}, F1-score: {f1}\")\n",
        "\n",
        "# Get unique class labels\n",
        "classes = list(set(y_test + y_pred))\n",
        "\n",
        "# Example usage\n",
        "evaluate_predictions(y_test, y_pred, classes)"
      ],
      "metadata": {
        "colab": {
          "base_uri": "https://localhost:8080/",
          "height": 211
        },
        "id": "1roV08wJ5uAs",
        "outputId": "05ba9fe2-80fa-4977-f69a-4dee70a4cbfd"
      },
      "execution_count": null,
      "outputs": [
        {
          "output_type": "error",
          "ename": "TypeError",
          "evalue": "unhashable type: 'list'",
          "traceback": [
            "\u001b[0;31m---------------------------------------------------------------------------\u001b[0m",
            "\u001b[0;31mTypeError\u001b[0m                                 Traceback (most recent call last)",
            "\u001b[0;32m<ipython-input-18-58ba6cc2e180>\u001b[0m in \u001b[0;36m<cell line: 57>\u001b[0;34m()\u001b[0m\n\u001b[1;32m     55\u001b[0m \u001b[0;34m\u001b[0m\u001b[0m\n\u001b[1;32m     56\u001b[0m \u001b[0;31m# Get unique class labels\u001b[0m\u001b[0;34m\u001b[0m\u001b[0;34m\u001b[0m\u001b[0m\n\u001b[0;32m---> 57\u001b[0;31m \u001b[0mclasses\u001b[0m \u001b[0;34m=\u001b[0m \u001b[0mlist\u001b[0m\u001b[0;34m(\u001b[0m\u001b[0mset\u001b[0m\u001b[0;34m(\u001b[0m\u001b[0my_test\u001b[0m \u001b[0;34m+\u001b[0m \u001b[0my_pred\u001b[0m\u001b[0;34m)\u001b[0m\u001b[0;34m)\u001b[0m\u001b[0;34m\u001b[0m\u001b[0;34m\u001b[0m\u001b[0m\n\u001b[0m\u001b[1;32m     58\u001b[0m \u001b[0;34m\u001b[0m\u001b[0m\n\u001b[1;32m     59\u001b[0m \u001b[0;31m# Example usage\u001b[0m\u001b[0;34m\u001b[0m\u001b[0;34m\u001b[0m\u001b[0m\n",
            "\u001b[0;31mTypeError\u001b[0m: unhashable type: 'list'"
          ]
        }
      ]
    },
    {
      "cell_type": "code",
      "source": [],
      "metadata": {
        "id": "CU0QmcAh_dxy"
      },
      "execution_count": null,
      "outputs": []
    }
  ]
}
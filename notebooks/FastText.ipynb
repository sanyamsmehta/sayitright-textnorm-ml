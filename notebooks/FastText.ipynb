{
  "nbformat": 4,
  "nbformat_minor": 0,
  "metadata": {
    "colab": {
      "provenance": []
    },
    "kernelspec": {
      "name": "python3",
      "display_name": "Python 3"
    },
    "language_info": {
      "name": "python"
    }
  },
  "cells": [
    {
      "cell_type": "code",
      "execution_count": null,
      "metadata": {
        "id": "qitZ9UnrwjlO"
      },
      "outputs": [],
      "source": [
        "!pip install fasttext\n",
        "import fasttext\n",
        "import pandas as pd\n",
        "from sklearn.model_selection import train_test_split\n",
        "\n",
        "# Load your dataset (assuming it's in a CSV file)\n",
        "data = pd.read_excel(\"en_train.xlsx\")\n",
        "\n",
        "# Select the first 10000 rows\n",
        "data_subset = data.head(1000)\n",
        "\n",
        "# Split the dataset into training and test sets\n",
        "train_data, test_data = train_test_split(data_subset, test_size=0.2, random_state=42)\n",
        "\n",
        "# Define the paths to the training and test data files\n",
        "train_data_file = \"train_data.txt\"\n",
        "test_data_file = \"test_data.txt\"\n",
        "\n",
        "# Save the training and test data into text files\n",
        "train_data[['before', 'class']].to_csv(train_data_file, sep=' ', header=False, index=False)\n",
        "test_data[['before', 'class']].to_csv(test_data_file, sep=' ', header=False, index=False)\n",
        "\n",
        "# Define the FastText model parameters\n",
        "model_params = {\n",
        "    \"input\": train_data_file,\n",
        "    \"epoch\": 10,\n",
        "    \"lr\": 0.1,\n",
        "    \"wordNgrams\": 2,\n",
        "    \"bucket\": 3000,\n",
        "    \"dim\": 40,\n",
        "    \"loss\": \"softmax\"\n",
        "}\n",
        "\n",
        "# Train the FastText model\n",
        "model = fasttext.train_supervised(**model_params)\n",
        "\n",
        "# Test the model\n",
        "result = model.test(test_data_file)\n",
        "print(\"Precision:\", result[1])\n",
        "print(\"Recall:\", result[2])\n",
        "print(\"Number of examples:\", result[0])\n",
        "\n",
        "# Predict function\n",
        "def predict(before_text):\n",
        "    return model.predict(before_text)\n",
        "\n",
        "# Example usage\n",
        "before_text = \"example before text\"\n",
        "predicted_label, _ = predict(before_text)\n",
        "print(\"Predicted class:\", predicted_label[0])"
      ]
    }
  ]
}